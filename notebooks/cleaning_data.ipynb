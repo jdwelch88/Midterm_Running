{
 "cells": [
  {
   "cell_type": "markdown",
   "metadata": {},
   "source": [
    "# Cleaning the Data"
   ]
  },
  {
   "cell_type": "markdown",
   "metadata": {},
   "source": [
    "### First import the libraries and data as a dataframe"
   ]
  },
  {
   "cell_type": "code",
   "execution_count": 2,
   "metadata": {},
   "outputs": [],
   "source": [
    "import pandas as pd\n",
    "import numpy as np\n",
    "import re # used for pattern matching and string manipulation in date column"
   ]
  },
  {
   "cell_type": "code",
   "execution_count": 3,
   "metadata": {},
   "outputs": [
    {
     "name": "stderr",
     "output_type": "stream",
     "text": [
      "/var/folders/_4/_j38q0cn0kg4pnd1jf3yvymr0000gn/T/ipykernel_85590/1009015574.py:1: DtypeWarning: Columns (11) have mixed types. Specify dtype option on import or set low_memory=False.\n",
      "  um_running_df = um_running_df = pd.read_csv(\"/Users/idsg/Desktop/Coding/daimil10/My_midterm/TWO_CENTURIES_OF_UM_RACES.csv\")\n"
     ]
    }
   ],
   "source": [
    "um_running_df = um_running_df = pd.read_csv(\"/Users/idsg/Desktop/Coding/daimil10/My_midterm/TWO_CENTURIES_OF_UM_RACES.csv\")"
   ]
  },
  {
   "cell_type": "markdown",
   "metadata": {},
   "source": [
    "### Begin cleaning the first file from Kaggle"
   ]
  },
  {
   "cell_type": "markdown",
   "metadata": {},
   "source": [
    "### This code below was utilized to pull all events located within the United States\n"
   ]
  },
  {
   "cell_type": "code",
   "execution_count": 4,
   "metadata": {},
   "outputs": [
    {
     "name": "stderr",
     "output_type": "stream",
     "text": [
      "/var/folders/_4/_j38q0cn0kg4pnd1jf3yvymr0000gn/T/ipykernel_85590/2744969783.py:1: UserWarning: This pattern is interpreted as a regular expression, and has match groups. To actually get the groups, use str.extract.\n",
      "  usa_running_df = um_running_df[um_running_df['Event name'].str.contains(\"(USA)\", case=True, na=False)]\n"
     ]
    }
   ],
   "source": [
    "\n",
    "usa_running_df = um_running_df[um_running_df['Event name'].str.contains(\"(USA)\", case=True, na=False)]\n"
   ]
  },
  {
   "cell_type": "markdown",
   "metadata": {},
   "source": [
    "### This filter removed all Men and Women age categories into a combined age category due to there being a column associating Male and Female"
   ]
  },
  {
   "cell_type": "code",
   "execution_count": 5,
   "metadata": {},
   "outputs": [
    {
     "name": "stderr",
     "output_type": "stream",
     "text": [
      "/var/folders/_4/_j38q0cn0kg4pnd1jf3yvymr0000gn/T/ipykernel_85590/3338947911.py:1: SettingWithCopyWarning: \n",
      "A value is trying to be set on a copy of a slice from a DataFrame.\n",
      "Try using .loc[row_indexer,col_indexer] = value instead\n",
      "\n",
      "See the caveats in the documentation: https://pandas.pydata.org/pandas-docs/stable/user_guide/indexing.html#returning-a-view-versus-a-copy\n",
      "  usa_running_df['Athlete age category'] = usa_running_df['Athlete age category'].str.replace('M', '')\n",
      "/var/folders/_4/_j38q0cn0kg4pnd1jf3yvymr0000gn/T/ipykernel_85590/3338947911.py:2: SettingWithCopyWarning: \n",
      "A value is trying to be set on a copy of a slice from a DataFrame.\n",
      "Try using .loc[row_indexer,col_indexer] = value instead\n",
      "\n",
      "See the caveats in the documentation: https://pandas.pydata.org/pandas-docs/stable/user_guide/indexing.html#returning-a-view-versus-a-copy\n",
      "  usa_running_df['Athlete age category'] = usa_running_df['Athlete age category'].str.replace('W', '')\n"
     ]
    }
   ],
   "source": [
    "\n",
    "usa_running_df['Athlete age category'] = usa_running_df['Athlete age category'].str.replace('M', '')\n",
    "usa_running_df['Athlete age category'] = usa_running_df['Athlete age category'].str.replace('W', '')"
   ]
  },
  {
   "cell_type": "markdown",
   "metadata": {},
   "source": [
    "### This gets rid of the 'h' in the athelete peformance time to format as a datetime later\n"
   ]
  },
  {
   "cell_type": "code",
   "execution_count": 6,
   "metadata": {},
   "outputs": [
    {
     "name": "stderr",
     "output_type": "stream",
     "text": [
      "/var/folders/_4/_j38q0cn0kg4pnd1jf3yvymr0000gn/T/ipykernel_85590/243772029.py:1: SettingWithCopyWarning: \n",
      "A value is trying to be set on a copy of a slice from a DataFrame.\n",
      "Try using .loc[row_indexer,col_indexer] = value instead\n",
      "\n",
      "See the caveats in the documentation: https://pandas.pydata.org/pandas-docs/stable/user_guide/indexing.html#returning-a-view-versus-a-copy\n",
      "  usa_running_df['Athlete performance'] = usa_running_df['Athlete performance'].str.replace(' h', '')\n"
     ]
    }
   ],
   "source": [
    "\n",
    "usa_running_df['Athlete performance'] = usa_running_df['Athlete performance'].str.replace(' h', '')"
   ]
  },
  {
   "cell_type": "markdown",
   "metadata": {},
   "source": [
    "### Next, I cleaned all NaNs in the birth year so they were all integers, NaNs recieved a 0\n"
   ]
  },
  {
   "cell_type": "code",
   "execution_count": 7,
   "metadata": {},
   "outputs": [
    {
     "name": "stderr",
     "output_type": "stream",
     "text": [
      "/var/folders/_4/_j38q0cn0kg4pnd1jf3yvymr0000gn/T/ipykernel_85590/1797113307.py:1: SettingWithCopyWarning: \n",
      "A value is trying to be set on a copy of a slice from a DataFrame.\n",
      "Try using .loc[row_indexer,col_indexer] = value instead\n",
      "\n",
      "See the caveats in the documentation: https://pandas.pydata.org/pandas-docs/stable/user_guide/indexing.html#returning-a-view-versus-a-copy\n",
      "  usa_running_df['Athlete year of birth'] = usa_running_df['Athlete year of birth'].fillna(0).astype(int)\n"
     ]
    }
   ],
   "source": [
    "\n",
    "usa_running_df['Athlete year of birth'] = usa_running_df['Athlete year of birth'].fillna(0).astype(int)\n"
   ]
  },
  {
   "cell_type": "markdown",
   "metadata": {},
   "source": [
    "# The next code allowed for the creation of a true age from events that had the year of and the birth year of the athlete to provide a true age along with the age category"
   ]
  },
  {
   "cell_type": "code",
   "execution_count": 8,
   "metadata": {},
   "outputs": [
    {
     "name": "stderr",
     "output_type": "stream",
     "text": [
      "/var/folders/_4/_j38q0cn0kg4pnd1jf3yvymr0000gn/T/ipykernel_85590/1292364995.py:1: SettingWithCopyWarning: \n",
      "A value is trying to be set on a copy of a slice from a DataFrame.\n",
      "Try using .loc[row_indexer,col_indexer] = value instead\n",
      "\n",
      "See the caveats in the documentation: https://pandas.pydata.org/pandas-docs/stable/user_guide/indexing.html#returning-a-view-versus-a-copy\n",
      "  usa_running_df['true age'] = usa_running_df['Year of event'] - usa_running_df['Athlete year of birth']\n"
     ]
    }
   ],
   "source": [
    "\n",
    "\n",
    "usa_running_df['true age'] = usa_running_df['Year of event'] - usa_running_df['Athlete year of birth']\n"
   ]
  },
  {
   "cell_type": "markdown",
   "metadata": {},
   "source": [
    "### import the extra data from the csv UM_Race_Information.csv\n"
   ]
  },
  {
   "cell_type": "code",
   "execution_count": 9,
   "metadata": {},
   "outputs": [],
   "source": [
    "\n",
    "event_info_df = pd.read_csv('/Users/idsg/Desktop/Coding/daimil10/My_midterm/Midterm_Running/Data/UM_Race_Information.csv')"
   ]
  },
  {
   "cell_type": "markdown",
   "metadata": {},
   "source": [
    "### merge the data sets on Event name due to 1 for 1 matches\n"
   ]
  },
  {
   "cell_type": "code",
   "execution_count": 10,
   "metadata": {},
   "outputs": [],
   "source": [
    "\n",
    "merged_data_df = pd.merge(usa_running_df, event_info_df, on='Event name', how='left')"
   ]
  },
  {
   "cell_type": "markdown",
   "metadata": {},
   "source": [
    "### now drop merged data that is blank and only has the 100 events we selected\n"
   ]
  },
  {
   "cell_type": "code",
   "execution_count": 11,
   "metadata": {},
   "outputs": [],
   "source": [
    "\n",
    "merged_data_df = merged_data_df.dropna(subset='Distance (miles)')"
   ]
  },
  {
   "cell_type": "markdown",
   "metadata": {},
   "source": [
    "### This definition turn athlete performance time into total hours\n"
   ]
  },
  {
   "cell_type": "code",
   "execution_count": 12,
   "metadata": {},
   "outputs": [],
   "source": [
    "\n",
    "def time_to_hours(time_str):\n",
    "    if 'd' in time_str:\n",
    "        d, time = time_str.split('d ')\n",
    "        h, m, s = map(int, time.split(':'))\n",
    "        return int(d) * 24 + h + m / 60 + s / 3600\n",
    "    else:\n",
    "        h, m, s = map(int, time_str.split(':'))\n",
    "        return h + m / 60 + s / 3600\n",
    "\n",
    "merged_data_df['Hours Ran'] = merged_data_df['Athlete performance'].apply(time_to_hours)"
   ]
  },
  {
   "cell_type": "markdown",
   "metadata": {},
   "source": [
    "### from the distance of the race and total hours ran we get miles per hour or speed of a racer"
   ]
  },
  {
   "cell_type": "code",
   "execution_count": 13,
   "metadata": {},
   "outputs": [],
   "source": [
    "\n",
    "\n",
    "merged_data_df['mph'] = merged_data_df['Distance (miles)'] / merged_data_df['Hours Ran']\n"
   ]
  },
  {
   "cell_type": "markdown",
   "metadata": {},
   "source": [
    "### I dropped incomplete data that would skew my results\n"
   ]
  },
  {
   "cell_type": "code",
   "execution_count": 14,
   "metadata": {},
   "outputs": [],
   "source": [
    "\n",
    "merged_data_df = merged_data_df.dropna(subset=['Athlete age category'])\n"
   ]
  },
  {
   "cell_type": "markdown",
   "metadata": {},
   "source": [
    "### State abbreviations were added to utilize choropleth and map data\n"
   ]
  },
  {
   "cell_type": "code",
   "execution_count": 15,
   "metadata": {},
   "outputs": [],
   "source": [
    "\n",
    "state_abbreviation = {\n",
    "    'Alabama': 'AL', 'Alaska': 'AK', 'Arizona': 'AZ', 'Arkansas': 'AR', 'California': 'CA',\n",
    "    'Colorado': 'CO', 'Connecticut': 'CT', 'Delaware': 'DE', 'Florida': 'FL', 'Georgia': 'GA',\n",
    "    'Hawaii': 'HI', 'Idaho': 'ID', 'Illinois': 'IL', 'Indiana': 'IN', 'Iowa': 'IA', 'Kansas': 'KS',\n",
    "    'Kentucky': 'KY', 'Louisiana': 'LA', 'Maine': 'ME', 'Maryland': 'MD', 'Massachusetts': 'MA',\n",
    "    'Michigan': 'MI', 'Minnesota': 'MN', 'Mississippi': 'MS', 'Missouri': 'MO', 'Montana': 'MT',\n",
    "    'Nebraska': 'NE', 'Nevada': 'NV', 'New Hampshire': 'NH', 'New Jersey': 'NJ', 'New Mexico': 'NM',\n",
    "    'New York': 'NY', 'North Carolina': 'NC', 'North Dakota': 'ND', 'Ohio': 'OH', 'Oklahoma': 'OK',\n",
    "    'Oregon': 'OR', 'Pennsylvania': 'PA', 'Rhode Island': 'RI', 'South Carolina': 'SC',\n",
    "    'South Dakota': 'SD', 'Tennessee': 'TN', 'Texas': 'TX', 'Utah': 'UT', 'Vermont': 'VT',\n",
    "    'Virginia': 'VA', 'Washington': 'WA', 'West Virginia': 'WV', 'Wisconsin': 'WI', 'Wyoming': 'WY'\n",
    "}\n",
    "\n",
    "merged_data_df['state_code'] = merged_data_df['State'].map(state_abbreviation)\n"
   ]
  },
  {
   "cell_type": "markdown",
   "metadata": {},
   "source": [
    "### regex was used in the Event dates column due to dates being formatted in multiple different ways\n",
    "### from this definition the dates were able to format properly and a new datetime column was created with proper date time format"
   ]
  },
  {
   "cell_type": "code",
   "execution_count": 16,
   "metadata": {},
   "outputs": [],
   "source": [
    "\n",
    "\n",
    "def clean_date(date):\n",
    "    # Extract the pattern dd.mm.yyyy from the string\n",
    "    match = re.search(r'\\b\\d{2}\\.\\d{2}\\.\\d{4}\\b', date)\n",
    "    if match:\n",
    "        return match.group(0)\n",
    "    return None\n",
    "\n",
    "# Apply the function to the 'date' column\n",
    "merged_data_df['cleaned_date'] = merged_data_df['Event dates'].apply(clean_date)\n",
    "\n",
    "# Convert to datetime\n",
    "merged_data_df['datetime'] = pd.to_datetime(merged_data_df['cleaned_date'], format='%d.%m.%Y', errors='coerce')"
   ]
  },
  {
   "cell_type": "markdown",
   "metadata": {},
   "source": [
    "### Look at the data and remove any columns not needed."
   ]
  },
  {
   "cell_type": "code",
   "execution_count": 17,
   "metadata": {},
   "outputs": [],
   "source": [
    "um_merged_df = merged_data_df.drop(columns=[\"Event distance/length\", 'Event dates', 'Unnamed: 0', 'Athlete average speed', 'cleaned_date'])\n"
   ]
  },
  {
   "cell_type": "markdown",
   "metadata": {},
   "source": [
    "### Write the finished and completed data frame to a csv"
   ]
  },
  {
   "cell_type": "code",
   "execution_count": 18,
   "metadata": {},
   "outputs": [],
   "source": [
    "um_merged_df.to_csv('UM_data_cleaned.csv')"
   ]
  },
  {
   "cell_type": "code",
   "execution_count": 19,
   "metadata": {},
   "outputs": [
    {
     "data": {
      "text/html": [
       "<div>\n",
       "<style scoped>\n",
       "    .dataframe tbody tr th:only-of-type {\n",
       "        vertical-align: middle;\n",
       "    }\n",
       "\n",
       "    .dataframe tbody tr th {\n",
       "        vertical-align: top;\n",
       "    }\n",
       "\n",
       "    .dataframe thead th {\n",
       "        text-align: right;\n",
       "    }\n",
       "</style>\n",
       "<table border=\"1\" class=\"dataframe\">\n",
       "  <thead>\n",
       "    <tr style=\"text-align: right;\">\n",
       "      <th></th>\n",
       "      <th>Year of event</th>\n",
       "      <th>Event name</th>\n",
       "      <th>Event number of finishers</th>\n",
       "      <th>Athlete performance</th>\n",
       "      <th>Athlete club</th>\n",
       "      <th>Athlete country</th>\n",
       "      <th>Athlete year of birth</th>\n",
       "      <th>Athlete gender</th>\n",
       "      <th>Athlete age category</th>\n",
       "      <th>Athlete ID</th>\n",
       "      <th>true age</th>\n",
       "      <th>State</th>\n",
       "      <th>Highest Elevation (feet)</th>\n",
       "      <th>Elevation Gain (feet)</th>\n",
       "      <th>Average state elevation (feet)</th>\n",
       "      <th>Distance (miles)</th>\n",
       "      <th>Hours Ran</th>\n",
       "      <th>mph</th>\n",
       "      <th>state_code</th>\n",
       "      <th>datetime</th>\n",
       "    </tr>\n",
       "  </thead>\n",
       "  <tbody>\n",
       "    <tr>\n",
       "      <th>857</th>\n",
       "      <td>2018</td>\n",
       "      <td>Chuckanut 50K (USA)</td>\n",
       "      <td>410</td>\n",
       "      <td>3:36:35</td>\n",
       "      <td>*Folsom, CA</td>\n",
       "      <td>USA</td>\n",
       "      <td>1991</td>\n",
       "      <td>M</td>\n",
       "      <td>23</td>\n",
       "      <td>12058</td>\n",
       "      <td>27</td>\n",
       "      <td>Washington</td>\n",
       "      <td>1870.0</td>\n",
       "      <td>5000.0</td>\n",
       "      <td>1700.0</td>\n",
       "      <td>31.0</td>\n",
       "      <td>3.609722</td>\n",
       "      <td>8.587918</td>\n",
       "      <td>WA</td>\n",
       "      <td>2018-03-17</td>\n",
       "    </tr>\n",
       "    <tr>\n",
       "      <th>858</th>\n",
       "      <td>2018</td>\n",
       "      <td>Chuckanut 50K (USA)</td>\n",
       "      <td>410</td>\n",
       "      <td>3:40:57</td>\n",
       "      <td>*Santa Fe, NM</td>\n",
       "      <td>USA</td>\n",
       "      <td>1986</td>\n",
       "      <td>M</td>\n",
       "      <td>23</td>\n",
       "      <td>12059</td>\n",
       "      <td>32</td>\n",
       "      <td>Washington</td>\n",
       "      <td>1870.0</td>\n",
       "      <td>5000.0</td>\n",
       "      <td>1700.0</td>\n",
       "      <td>31.0</td>\n",
       "      <td>3.682500</td>\n",
       "      <td>8.418194</td>\n",
       "      <td>WA</td>\n",
       "      <td>2018-03-17</td>\n",
       "    </tr>\n",
       "    <tr>\n",
       "      <th>859</th>\n",
       "      <td>2018</td>\n",
       "      <td>Chuckanut 50K (USA)</td>\n",
       "      <td>410</td>\n",
       "      <td>3:47:43</td>\n",
       "      <td>*San Francisco, CA</td>\n",
       "      <td>IRL</td>\n",
       "      <td>1987</td>\n",
       "      <td>M</td>\n",
       "      <td>23</td>\n",
       "      <td>12060</td>\n",
       "      <td>31</td>\n",
       "      <td>Washington</td>\n",
       "      <td>1870.0</td>\n",
       "      <td>5000.0</td>\n",
       "      <td>1700.0</td>\n",
       "      <td>31.0</td>\n",
       "      <td>3.795278</td>\n",
       "      <td>8.168045</td>\n",
       "      <td>WA</td>\n",
       "      <td>2018-03-17</td>\n",
       "    </tr>\n",
       "    <tr>\n",
       "      <th>860</th>\n",
       "      <td>2018</td>\n",
       "      <td>Chuckanut 50K (USA)</td>\n",
       "      <td>410</td>\n",
       "      <td>3:48:13</td>\n",
       "      <td>*Ashland, OR</td>\n",
       "      <td>USA</td>\n",
       "      <td>1988</td>\n",
       "      <td>M</td>\n",
       "      <td>23</td>\n",
       "      <td>12061</td>\n",
       "      <td>30</td>\n",
       "      <td>Washington</td>\n",
       "      <td>1870.0</td>\n",
       "      <td>5000.0</td>\n",
       "      <td>1700.0</td>\n",
       "      <td>31.0</td>\n",
       "      <td>3.803611</td>\n",
       "      <td>8.150150</td>\n",
       "      <td>WA</td>\n",
       "      <td>2018-03-17</td>\n",
       "    </tr>\n",
       "    <tr>\n",
       "      <th>861</th>\n",
       "      <td>2018</td>\n",
       "      <td>Chuckanut 50K (USA)</td>\n",
       "      <td>410</td>\n",
       "      <td>3:50:55</td>\n",
       "      <td>*Bend, OR</td>\n",
       "      <td>USA</td>\n",
       "      <td>1981</td>\n",
       "      <td>M</td>\n",
       "      <td>35</td>\n",
       "      <td>12062</td>\n",
       "      <td>37</td>\n",
       "      <td>Washington</td>\n",
       "      <td>1870.0</td>\n",
       "      <td>5000.0</td>\n",
       "      <td>1700.0</td>\n",
       "      <td>31.0</td>\n",
       "      <td>3.848611</td>\n",
       "      <td>8.054854</td>\n",
       "      <td>WA</td>\n",
       "      <td>2018-03-17</td>\n",
       "    </tr>\n",
       "  </tbody>\n",
       "</table>\n",
       "</div>"
      ],
      "text/plain": [
       "     Year of event           Event name  Event number of finishers  \\\n",
       "857           2018  Chuckanut 50K (USA)                        410   \n",
       "858           2018  Chuckanut 50K (USA)                        410   \n",
       "859           2018  Chuckanut 50K (USA)                        410   \n",
       "860           2018  Chuckanut 50K (USA)                        410   \n",
       "861           2018  Chuckanut 50K (USA)                        410   \n",
       "\n",
       "    Athlete performance        Athlete club Athlete country  \\\n",
       "857             3:36:35         *Folsom, CA             USA   \n",
       "858             3:40:57       *Santa Fe, NM             USA   \n",
       "859             3:47:43  *San Francisco, CA             IRL   \n",
       "860             3:48:13        *Ashland, OR             USA   \n",
       "861             3:50:55           *Bend, OR             USA   \n",
       "\n",
       "     Athlete year of birth Athlete gender Athlete age category  Athlete ID  \\\n",
       "857                   1991              M                   23       12058   \n",
       "858                   1986              M                   23       12059   \n",
       "859                   1987              M                   23       12060   \n",
       "860                   1988              M                   23       12061   \n",
       "861                   1981              M                   35       12062   \n",
       "\n",
       "     true age       State  Highest Elevation (feet)  Elevation Gain (feet)  \\\n",
       "857        27  Washington                    1870.0                 5000.0   \n",
       "858        32  Washington                    1870.0                 5000.0   \n",
       "859        31  Washington                    1870.0                 5000.0   \n",
       "860        30  Washington                    1870.0                 5000.0   \n",
       "861        37  Washington                    1870.0                 5000.0   \n",
       "\n",
       "     Average state elevation (feet)  Distance (miles)  Hours Ran       mph  \\\n",
       "857                          1700.0              31.0   3.609722  8.587918   \n",
       "858                          1700.0              31.0   3.682500  8.418194   \n",
       "859                          1700.0              31.0   3.795278  8.168045   \n",
       "860                          1700.0              31.0   3.803611  8.150150   \n",
       "861                          1700.0              31.0   3.848611  8.054854   \n",
       "\n",
       "    state_code   datetime  \n",
       "857         WA 2018-03-17  \n",
       "858         WA 2018-03-17  \n",
       "859         WA 2018-03-17  \n",
       "860         WA 2018-03-17  \n",
       "861         WA 2018-03-17  "
      ]
     },
     "execution_count": 19,
     "metadata": {},
     "output_type": "execute_result"
    }
   ],
   "source": [
    "um_merged_df.head()"
   ]
  }
 ],
 "metadata": {
  "kernelspec": {
   "display_name": "DAI",
   "language": "python",
   "name": "python3"
  },
  "language_info": {
   "codemirror_mode": {
    "name": "ipython",
    "version": 3
   },
   "file_extension": ".py",
   "mimetype": "text/x-python",
   "name": "python",
   "nbconvert_exporter": "python",
   "pygments_lexer": "ipython3",
   "version": "3.12.7"
  }
 },
 "nbformat": 4,
 "nbformat_minor": 2
}
