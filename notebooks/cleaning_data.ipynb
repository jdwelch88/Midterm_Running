{
 "cells": [
  {
   "cell_type": "markdown",
   "metadata": {},
   "source": [
    "# Cleaning the Data"
   ]
  },
  {
   "cell_type": "markdown",
   "metadata": {},
   "source": [
    "### First import the libraries and data as a dataframe"
   ]
  },
  {
   "cell_type": "code",
   "execution_count": 2,
   "metadata": {},
   "outputs": [],
   "source": [
    "import pandas as pd\n",
    "import numpy as np\n",
    "import re # used for pattern matching and string manipulation in date column"
   ]
  },
  {
   "cell_type": "code",
   "execution_count": null,
   "metadata": {},
   "outputs": [],
   "source": [
    "um_running_df = um_running_df = pd.read_csv(\"/Users/idsg/Desktop/Coding/daimil10/My_midterm/TWO_CENTURIES_OF_UM_RACES.csv\")"
   ]
  },
  {
   "cell_type": "markdown",
   "metadata": {},
   "source": [
    "### Begin cleaning the first file from Kaggle"
   ]
  },
  {
   "cell_type": "code",
   "execution_count": null,
   "metadata": {},
   "outputs": [],
   "source": [
    "# This code was utilized to pull all events located within the United States\n",
    "\n",
    "usa_running_df = um_running_df[um_running_df['Event name'].str.contains(\"(USA)\", case=True, na=False)]\n"
   ]
  },
  {
   "cell_type": "code",
   "execution_count": null,
   "metadata": {},
   "outputs": [],
   "source": [
    "# This filter removed all Men and Women age categories into a combined age category due to there being a column associating Male and Female\n",
    "\n",
    "usa_running_df['Athlete age category'] = usa_running_df['Athlete age category'].str.replace('M', '')\n",
    "usa_running_df['Athlete age category'] = usa_running_df['Athlete age category'].str.replace('W', '')"
   ]
  },
  {
   "cell_type": "code",
   "execution_count": null,
   "metadata": {},
   "outputs": [],
   "source": [
    "# This gets rid of the 'h' in the athelete peformance time to format as a datetime later\n",
    "\n",
    "usa_running_df['Athlete performance'] = usa_running_df['Athlete performance'].str.replace(' h', '')"
   ]
  },
  {
   "cell_type": "code",
   "execution_count": null,
   "metadata": {},
   "outputs": [],
   "source": [
    "# This cleaned all NaNs in the birth year so they were all integers, NaNs recieved a 0\n",
    "\n",
    "usa_running_df['Athlete year of birth'] = usa_running_df['Athlete year of birth'].fillna(0).astype(int)\n"
   ]
  },
  {
   "cell_type": "code",
   "execution_count": null,
   "metadata": {},
   "outputs": [],
   "source": [
    "# This allowed for the creation of a true age from events that had the year of\n",
    "# and the birth year of the athlete to provide a true age along with the age category\n",
    "\n",
    "usa_running_df['true age'] = usa_running_df['Year of event'] - us_running_df2['Athlete year of birth']\n"
   ]
  },
  {
   "cell_type": "code",
   "execution_count": null,
   "metadata": {},
   "outputs": [],
   "source": [
    "# import the extra data from the csv UM_Race_Information.csv\n",
    "\n",
    "event_info_df = pd.read_csv('/Users/idsg/Desktop/Coding/daimil10/My_midterm/Midterm_Running/Data/UM_Race_Information.csv')"
   ]
  },
  {
   "cell_type": "code",
   "execution_count": null,
   "metadata": {},
   "outputs": [],
   "source": [
    "# merge the data sets on Event name since they match\n",
    "\n",
    "merged_data_df = pd.merge(usa_running_df, event_info_df, on='Event name', how='left')"
   ]
  },
  {
   "cell_type": "code",
   "execution_count": null,
   "metadata": {},
   "outputs": [],
   "source": [
    "# now drop merged data that is blank and only has the 100 events we selected\n",
    "\n",
    "merged_data_df = merged_data_df.dropna(subset='Distance (miles)')"
   ]
  },
  {
   "cell_type": "code",
   "execution_count": null,
   "metadata": {},
   "outputs": [],
   "source": [
    "# This definition turn athlete performance time into total hours\n",
    "\n",
    "def time_to_hours(time_str):\n",
    "    if 'd' in time_str:\n",
    "        d, time = time_str.split('d ')\n",
    "        h, m, s = map(int, time.split(':'))\n",
    "        return int(d) * 24 + h + m / 60 + s / 3600\n",
    "    else:\n",
    "        h, m, s = map(int, time_str.split(':'))\n",
    "        return h + m / 60 + s / 3600\n",
    "\n",
    "merged_data_df['Hours Ran'] = merged_data_df['Athlete performance'].apply(time_to_hours)"
   ]
  },
  {
   "cell_type": "code",
   "execution_count": null,
   "metadata": {},
   "outputs": [],
   "source": [
    "# from the distance of the race and total hours ran \n",
    "# we get miles per hour or speed of a racer\n",
    "\n",
    "merged_data_df['mph'] = merged_data_df['Distance (miles)'] / merged_data_df['Hours Ran']\n"
   ]
  },
  {
   "cell_type": "code",
   "execution_count": null,
   "metadata": {},
   "outputs": [],
   "source": [
    "# I dropped incomplete data that would skew my results\n",
    "\n",
    "merged_data_df = merged_data_df.dropna(subset=['Athlete age category'])\n"
   ]
  },
  {
   "cell_type": "code",
   "execution_count": null,
   "metadata": {},
   "outputs": [],
   "source": [
    "# State abbreviations were added to utilize choropleth and map data\n",
    "\n",
    "state_abbreviation = {\n",
    "    'Alabama': 'AL', 'Alaska': 'AK', 'Arizona': 'AZ', 'Arkansas': 'AR', 'California': 'CA',\n",
    "    'Colorado': 'CO', 'Connecticut': 'CT', 'Delaware': 'DE', 'Florida': 'FL', 'Georgia': 'GA',\n",
    "    'Hawaii': 'HI', 'Idaho': 'ID', 'Illinois': 'IL', 'Indiana': 'IN', 'Iowa': 'IA', 'Kansas': 'KS',\n",
    "    'Kentucky': 'KY', 'Louisiana': 'LA', 'Maine': 'ME', 'Maryland': 'MD', 'Massachusetts': 'MA',\n",
    "    'Michigan': 'MI', 'Minnesota': 'MN', 'Mississippi': 'MS', 'Missouri': 'MO', 'Montana': 'MT',\n",
    "    'Nebraska': 'NE', 'Nevada': 'NV', 'New Hampshire': 'NH', 'New Jersey': 'NJ', 'New Mexico': 'NM',\n",
    "    'New York': 'NY', 'North Carolina': 'NC', 'North Dakota': 'ND', 'Ohio': 'OH', 'Oklahoma': 'OK',\n",
    "    'Oregon': 'OR', 'Pennsylvania': 'PA', 'Rhode Island': 'RI', 'South Carolina': 'SC',\n",
    "    'South Dakota': 'SD', 'Tennessee': 'TN', 'Texas': 'TX', 'Utah': 'UT', 'Vermont': 'VT',\n",
    "    'Virginia': 'VA', 'Washington': 'WA', 'West Virginia': 'WV', 'Wisconsin': 'WI', 'Wyoming': 'WY'\n",
    "}\n",
    "\n",
    "merged_data_df['state_code'] = merged_data_df['State'].map(state_abbreviation)\n"
   ]
  },
  {
   "cell_type": "code",
   "execution_count": null,
   "metadata": {},
   "outputs": [],
   "source": [
    "# regex was used in the Event dates column due to dates being formatted\n",
    "# in multiple different ways\n",
    "# from this definition the dates were able to format properly and a \n",
    "# new datetime column was created with proper date time format\n",
    "\n",
    "def clean_date(date):\n",
    "    # Extract the pattern dd.mm.yyyy from the string\n",
    "    match = re.search(r'\\b\\d{2}\\.\\d{2}\\.\\d{4}\\b', date)\n",
    "    if match:\n",
    "        return match.group(0)\n",
    "    return None\n",
    "\n",
    "# Apply the function to the 'date' column\n",
    "merged_data_df['cleaned_date'] = merged_data_df['Event dates'].apply(clean_date)\n",
    "\n",
    "# Convert to datetime\n",
    "merged_data_df['datetime'] = pd.to_datetime(merged_data_df['cleaned_date'], format='%d.%m.%Y', errors='coerce')"
   ]
  }
 ],
 "metadata": {
  "kernelspec": {
   "display_name": "DAI",
   "language": "python",
   "name": "python3"
  },
  "language_info": {
   "codemirror_mode": {
    "name": "ipython",
    "version": 3
   },
   "file_extension": ".py",
   "mimetype": "text/x-python",
   "name": "python",
   "nbconvert_exporter": "python",
   "pygments_lexer": "ipython3",
   "version": "3.12.7"
  }
 },
 "nbformat": 4,
 "nbformat_minor": 2
}
